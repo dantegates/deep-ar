{
 "cells": [
  {
   "cell_type": "markdown",
   "metadata": {},
   "source": [
    "https://arxiv.org/pdf/1704.04110.pdf\n",
    "\n",
    "https://archive.ics.uci.edu/ml/datasets/ElectricityLoadDiagrams20112014\n",
    "\n",
    "https://github.com/awslabs/amazon-sagemaker-examples/blob/master/introduction_to_amazon_algorithms/deepar_electricity/DeepAR-Electricity.ipynb\n",
    "\n",
    "TODO:\n",
    "\n",
    "- train/test split\n",
    "- predict properly"
   ]
  },
  {
   "cell_type": "code",
   "execution_count": 1,
   "metadata": {},
   "outputs": [
    {
     "data": {
      "text/plain": [
       "(140256, 370)"
      ]
     },
     "execution_count": 1,
     "metadata": {},
     "output_type": "execute_result"
    }
   ],
   "source": [
    "import pandas as pd\n",
    "\n",
    "d = pd.read_csv('LD2011_2014.txt', sep=';', thousands=',', index_col=0, )\n",
    "d.index = pd.to_datetime(d.index)\n",
    "d.shape"
   ]
  },
  {
   "cell_type": "code",
   "execution_count": 2,
   "metadata": {},
   "outputs": [
    {
     "data": {
      "text/html": [
       "<div>\n",
       "<style scoped>\n",
       "    .dataframe tbody tr th:only-of-type {\n",
       "        vertical-align: middle;\n",
       "    }\n",
       "\n",
       "    .dataframe tbody tr th {\n",
       "        vertical-align: top;\n",
       "    }\n",
       "\n",
       "    .dataframe thead th {\n",
       "        text-align: right;\n",
       "    }\n",
       "</style>\n",
       "<table border=\"1\" class=\"dataframe\">\n",
       "  <thead>\n",
       "    <tr style=\"text-align: right;\">\n",
       "      <th></th>\n",
       "      <th>MT_001</th>\n",
       "      <th>MT_002</th>\n",
       "      <th>MT_003</th>\n",
       "      <th>MT_004</th>\n",
       "      <th>MT_005</th>\n",
       "      <th>MT_006</th>\n",
       "      <th>MT_007</th>\n",
       "      <th>MT_008</th>\n",
       "      <th>MT_009</th>\n",
       "      <th>MT_010</th>\n",
       "      <th>...</th>\n",
       "      <th>MT_361</th>\n",
       "      <th>MT_362</th>\n",
       "      <th>MT_363</th>\n",
       "      <th>MT_364</th>\n",
       "      <th>MT_365</th>\n",
       "      <th>MT_366</th>\n",
       "      <th>MT_367</th>\n",
       "      <th>MT_368</th>\n",
       "      <th>MT_369</th>\n",
       "      <th>MT_370</th>\n",
       "    </tr>\n",
       "  </thead>\n",
       "  <tbody>\n",
       "    <tr>\n",
       "      <th>2011-01-01 00:15:00</th>\n",
       "      <td>0</td>\n",
       "      <td>0</td>\n",
       "      <td>0</td>\n",
       "      <td>0</td>\n",
       "      <td>0</td>\n",
       "      <td>0</td>\n",
       "      <td>0</td>\n",
       "      <td>0</td>\n",
       "      <td>0</td>\n",
       "      <td>0</td>\n",
       "      <td>...</td>\n",
       "      <td>0</td>\n",
       "      <td>0.0</td>\n",
       "      <td>0</td>\n",
       "      <td>0</td>\n",
       "      <td>0</td>\n",
       "      <td>0</td>\n",
       "      <td>0</td>\n",
       "      <td>0</td>\n",
       "      <td>0</td>\n",
       "      <td>0</td>\n",
       "    </tr>\n",
       "    <tr>\n",
       "      <th>2011-01-01 00:30:00</th>\n",
       "      <td>0</td>\n",
       "      <td>0</td>\n",
       "      <td>0</td>\n",
       "      <td>0</td>\n",
       "      <td>0</td>\n",
       "      <td>0</td>\n",
       "      <td>0</td>\n",
       "      <td>0</td>\n",
       "      <td>0</td>\n",
       "      <td>0</td>\n",
       "      <td>...</td>\n",
       "      <td>0</td>\n",
       "      <td>0.0</td>\n",
       "      <td>0</td>\n",
       "      <td>0</td>\n",
       "      <td>0</td>\n",
       "      <td>0</td>\n",
       "      <td>0</td>\n",
       "      <td>0</td>\n",
       "      <td>0</td>\n",
       "      <td>0</td>\n",
       "    </tr>\n",
       "    <tr>\n",
       "      <th>2011-01-01 00:45:00</th>\n",
       "      <td>0</td>\n",
       "      <td>0</td>\n",
       "      <td>0</td>\n",
       "      <td>0</td>\n",
       "      <td>0</td>\n",
       "      <td>0</td>\n",
       "      <td>0</td>\n",
       "      <td>0</td>\n",
       "      <td>0</td>\n",
       "      <td>0</td>\n",
       "      <td>...</td>\n",
       "      <td>0</td>\n",
       "      <td>0.0</td>\n",
       "      <td>0</td>\n",
       "      <td>0</td>\n",
       "      <td>0</td>\n",
       "      <td>0</td>\n",
       "      <td>0</td>\n",
       "      <td>0</td>\n",
       "      <td>0</td>\n",
       "      <td>0</td>\n",
       "    </tr>\n",
       "    <tr>\n",
       "      <th>2011-01-01 01:00:00</th>\n",
       "      <td>0</td>\n",
       "      <td>0</td>\n",
       "      <td>0</td>\n",
       "      <td>0</td>\n",
       "      <td>0</td>\n",
       "      <td>0</td>\n",
       "      <td>0</td>\n",
       "      <td>0</td>\n",
       "      <td>0</td>\n",
       "      <td>0</td>\n",
       "      <td>...</td>\n",
       "      <td>0</td>\n",
       "      <td>0.0</td>\n",
       "      <td>0</td>\n",
       "      <td>0</td>\n",
       "      <td>0</td>\n",
       "      <td>0</td>\n",
       "      <td>0</td>\n",
       "      <td>0</td>\n",
       "      <td>0</td>\n",
       "      <td>0</td>\n",
       "    </tr>\n",
       "    <tr>\n",
       "      <th>2011-01-01 01:15:00</th>\n",
       "      <td>0</td>\n",
       "      <td>0</td>\n",
       "      <td>0</td>\n",
       "      <td>0</td>\n",
       "      <td>0</td>\n",
       "      <td>0</td>\n",
       "      <td>0</td>\n",
       "      <td>0</td>\n",
       "      <td>0</td>\n",
       "      <td>0</td>\n",
       "      <td>...</td>\n",
       "      <td>0</td>\n",
       "      <td>0.0</td>\n",
       "      <td>0</td>\n",
       "      <td>0</td>\n",
       "      <td>0</td>\n",
       "      <td>0</td>\n",
       "      <td>0</td>\n",
       "      <td>0</td>\n",
       "      <td>0</td>\n",
       "      <td>0</td>\n",
       "    </tr>\n",
       "  </tbody>\n",
       "</table>\n",
       "<p>5 rows × 370 columns</p>\n",
       "</div>"
      ],
      "text/plain": [
       "                     MT_001  MT_002  MT_003  MT_004  MT_005  MT_006  MT_007  \\\n",
       "2011-01-01 00:15:00       0       0       0       0       0       0       0   \n",
       "2011-01-01 00:30:00       0       0       0       0       0       0       0   \n",
       "2011-01-01 00:45:00       0       0       0       0       0       0       0   \n",
       "2011-01-01 01:00:00       0       0       0       0       0       0       0   \n",
       "2011-01-01 01:15:00       0       0       0       0       0       0       0   \n",
       "\n",
       "                     MT_008  MT_009  MT_010  ...  MT_361  MT_362  MT_363  \\\n",
       "2011-01-01 00:15:00       0       0       0  ...       0     0.0       0   \n",
       "2011-01-01 00:30:00       0       0       0  ...       0     0.0       0   \n",
       "2011-01-01 00:45:00       0       0       0  ...       0     0.0       0   \n",
       "2011-01-01 01:00:00       0       0       0  ...       0     0.0       0   \n",
       "2011-01-01 01:15:00       0       0       0  ...       0     0.0       0   \n",
       "\n",
       "                     MT_364  MT_365  MT_366  MT_367  MT_368  MT_369  MT_370  \n",
       "2011-01-01 00:15:00       0       0       0       0       0       0       0  \n",
       "2011-01-01 00:30:00       0       0       0       0       0       0       0  \n",
       "2011-01-01 00:45:00       0       0       0       0       0       0       0  \n",
       "2011-01-01 01:00:00       0       0       0       0       0       0       0  \n",
       "2011-01-01 01:15:00       0       0       0       0       0       0       0  \n",
       "\n",
       "[5 rows x 370 columns]"
      ]
     },
     "execution_count": 2,
     "metadata": {},
     "output_type": "execute_result"
    }
   ],
   "source": [
    "d.head()"
   ]
  },
  {
   "cell_type": "code",
   "execution_count": 3,
   "metadata": {},
   "outputs": [
    {
     "name": "stderr",
     "output_type": "stream",
     "text": [
      "/home/dante/venvs/python36/lib/python3.6/site-packages/ipykernel_launcher.py:1: FutureWarning: how in .resample() is deprecated\n",
      "the new syntax is .resample(...).sum()\n",
      "  \"\"\"Entry point for launching an IPython kernel.\n"
     ]
    },
    {
     "data": {
      "text/html": [
       "<div>\n",
       "<style scoped>\n",
       "    .dataframe tbody tr th:only-of-type {\n",
       "        vertical-align: middle;\n",
       "    }\n",
       "\n",
       "    .dataframe tbody tr th {\n",
       "        vertical-align: top;\n",
       "    }\n",
       "\n",
       "    .dataframe thead th {\n",
       "        text-align: right;\n",
       "    }\n",
       "</style>\n",
       "<table border=\"1\" class=\"dataframe\">\n",
       "  <thead>\n",
       "    <tr style=\"text-align: right;\">\n",
       "      <th></th>\n",
       "      <th>MT_001</th>\n",
       "      <th>MT_002</th>\n",
       "      <th>MT_003</th>\n",
       "      <th>MT_004</th>\n",
       "      <th>MT_005</th>\n",
       "      <th>MT_006</th>\n",
       "      <th>MT_007</th>\n",
       "      <th>MT_008</th>\n",
       "      <th>MT_009</th>\n",
       "      <th>MT_010</th>\n",
       "      <th>...</th>\n",
       "      <th>MT_361</th>\n",
       "      <th>MT_362</th>\n",
       "      <th>MT_363</th>\n",
       "      <th>MT_364</th>\n",
       "      <th>MT_365</th>\n",
       "      <th>MT_366</th>\n",
       "      <th>MT_367</th>\n",
       "      <th>MT_368</th>\n",
       "      <th>MT_369</th>\n",
       "      <th>MT_370</th>\n",
       "    </tr>\n",
       "  </thead>\n",
       "  <tbody>\n",
       "    <tr>\n",
       "      <th>2011-01-01 00:00:00</th>\n",
       "      <td>0</td>\n",
       "      <td>0</td>\n",
       "      <td>0</td>\n",
       "      <td>0</td>\n",
       "      <td>0</td>\n",
       "      <td>0</td>\n",
       "      <td>0</td>\n",
       "      <td>0</td>\n",
       "      <td>0</td>\n",
       "      <td>0</td>\n",
       "      <td>...</td>\n",
       "      <td>0</td>\n",
       "      <td>0.0</td>\n",
       "      <td>0</td>\n",
       "      <td>0</td>\n",
       "      <td>0</td>\n",
       "      <td>0</td>\n",
       "      <td>0</td>\n",
       "      <td>0</td>\n",
       "      <td>0</td>\n",
       "      <td>0</td>\n",
       "    </tr>\n",
       "    <tr>\n",
       "      <th>2011-01-01 01:00:00</th>\n",
       "      <td>0</td>\n",
       "      <td>0</td>\n",
       "      <td>0</td>\n",
       "      <td>0</td>\n",
       "      <td>0</td>\n",
       "      <td>0</td>\n",
       "      <td>0</td>\n",
       "      <td>0</td>\n",
       "      <td>0</td>\n",
       "      <td>0</td>\n",
       "      <td>...</td>\n",
       "      <td>0</td>\n",
       "      <td>0.0</td>\n",
       "      <td>0</td>\n",
       "      <td>0</td>\n",
       "      <td>0</td>\n",
       "      <td>0</td>\n",
       "      <td>0</td>\n",
       "      <td>0</td>\n",
       "      <td>0</td>\n",
       "      <td>0</td>\n",
       "    </tr>\n",
       "    <tr>\n",
       "      <th>2011-01-01 02:00:00</th>\n",
       "      <td>0</td>\n",
       "      <td>0</td>\n",
       "      <td>0</td>\n",
       "      <td>0</td>\n",
       "      <td>0</td>\n",
       "      <td>0</td>\n",
       "      <td>0</td>\n",
       "      <td>0</td>\n",
       "      <td>0</td>\n",
       "      <td>0</td>\n",
       "      <td>...</td>\n",
       "      <td>0</td>\n",
       "      <td>0.0</td>\n",
       "      <td>0</td>\n",
       "      <td>0</td>\n",
       "      <td>0</td>\n",
       "      <td>0</td>\n",
       "      <td>0</td>\n",
       "      <td>0</td>\n",
       "      <td>0</td>\n",
       "      <td>0</td>\n",
       "    </tr>\n",
       "    <tr>\n",
       "      <th>2011-01-01 03:00:00</th>\n",
       "      <td>0</td>\n",
       "      <td>0</td>\n",
       "      <td>0</td>\n",
       "      <td>0</td>\n",
       "      <td>0</td>\n",
       "      <td>0</td>\n",
       "      <td>0</td>\n",
       "      <td>0</td>\n",
       "      <td>0</td>\n",
       "      <td>0</td>\n",
       "      <td>...</td>\n",
       "      <td>0</td>\n",
       "      <td>0.0</td>\n",
       "      <td>0</td>\n",
       "      <td>0</td>\n",
       "      <td>0</td>\n",
       "      <td>0</td>\n",
       "      <td>0</td>\n",
       "      <td>0</td>\n",
       "      <td>0</td>\n",
       "      <td>0</td>\n",
       "    </tr>\n",
       "    <tr>\n",
       "      <th>2011-01-01 04:00:00</th>\n",
       "      <td>0</td>\n",
       "      <td>0</td>\n",
       "      <td>0</td>\n",
       "      <td>0</td>\n",
       "      <td>0</td>\n",
       "      <td>0</td>\n",
       "      <td>0</td>\n",
       "      <td>0</td>\n",
       "      <td>0</td>\n",
       "      <td>0</td>\n",
       "      <td>...</td>\n",
       "      <td>0</td>\n",
       "      <td>0.0</td>\n",
       "      <td>0</td>\n",
       "      <td>0</td>\n",
       "      <td>0</td>\n",
       "      <td>0</td>\n",
       "      <td>0</td>\n",
       "      <td>0</td>\n",
       "      <td>0</td>\n",
       "      <td>0</td>\n",
       "    </tr>\n",
       "  </tbody>\n",
       "</table>\n",
       "<p>5 rows × 370 columns</p>\n",
       "</div>"
      ],
      "text/plain": [
       "                     MT_001  MT_002  MT_003  MT_004  MT_005  MT_006  MT_007  \\\n",
       "2011-01-01 00:00:00       0       0       0       0       0       0       0   \n",
       "2011-01-01 01:00:00       0       0       0       0       0       0       0   \n",
       "2011-01-01 02:00:00       0       0       0       0       0       0       0   \n",
       "2011-01-01 03:00:00       0       0       0       0       0       0       0   \n",
       "2011-01-01 04:00:00       0       0       0       0       0       0       0   \n",
       "\n",
       "                     MT_008  MT_009  MT_010  ...  MT_361  MT_362  MT_363  \\\n",
       "2011-01-01 00:00:00       0       0       0  ...       0     0.0       0   \n",
       "2011-01-01 01:00:00       0       0       0  ...       0     0.0       0   \n",
       "2011-01-01 02:00:00       0       0       0  ...       0     0.0       0   \n",
       "2011-01-01 03:00:00       0       0       0  ...       0     0.0       0   \n",
       "2011-01-01 04:00:00       0       0       0  ...       0     0.0       0   \n",
       "\n",
       "                     MT_364  MT_365  MT_366  MT_367  MT_368  MT_369  MT_370  \n",
       "2011-01-01 00:00:00       0       0       0       0       0       0       0  \n",
       "2011-01-01 01:00:00       0       0       0       0       0       0       0  \n",
       "2011-01-01 02:00:00       0       0       0       0       0       0       0  \n",
       "2011-01-01 03:00:00       0       0       0       0       0       0       0  \n",
       "2011-01-01 04:00:00       0       0       0       0       0       0       0  \n",
       "\n",
       "[5 rows x 370 columns]"
      ]
     },
     "execution_count": 3,
     "metadata": {},
     "output_type": "execute_result"
    }
   ],
   "source": [
    "d = d.resample('H', how='sum')\n",
    "d.head()"
   ]
  },
  {
   "cell_type": "code",
   "execution_count": 4,
   "metadata": {},
   "outputs": [
    {
     "data": {
      "text/plain": [
       "(35065, 370)"
      ]
     },
     "execution_count": 4,
     "metadata": {},
     "output_type": "execute_result"
    }
   ],
   "source": [
    "d.shape"
   ]
  },
  {
   "cell_type": "code",
   "execution_count": 5,
   "metadata": {},
   "outputs": [
    {
     "name": "stderr",
     "output_type": "stream",
     "text": [
      "/home/dante/venvs/python36/lib/python3.6/site-packages/numpy/core/fromnumeric.py:61: FutureWarning: Series.nonzero() is deprecated and will be removed in a future version.Use Series.to_numpy().nonzero() instead\n",
      "  return bound(*args, **kwds)\n"
     ]
    },
    {
     "data": {
      "text/plain": [
       "10463878"
      ]
     },
     "execution_count": 5,
     "metadata": {},
     "output_type": "execute_result"
    }
   ],
   "source": [
    "# hopw many training examples total\n",
    "import numpy as np\n",
    "sum(d.apply(lambda s: np.argwhere(s > 0).reshape(-1).max() - np.argwhere(s > 0).reshape(-1).min()))"
   ]
  },
  {
   "cell_type": "code",
   "execution_count": 6,
   "metadata": {},
   "outputs": [
    {
     "data": {
      "text/plain": [
       "array([        'NaT', 3600000000000], dtype='timedelta64[ns]')"
      ]
     },
     "execution_count": 6,
     "metadata": {},
     "output_type": "execute_result"
    }
   ],
   "source": [
    "# all observations are 1 hour intervals\n",
    "pd.Series(d.index).diff().unique()"
   ]
  },
  {
   "cell_type": "code",
   "execution_count": 7,
   "metadata": {},
   "outputs": [
    {
     "data": {
      "text/plain": [
       "MT_001    float64\n",
       "MT_002    float64\n",
       "MT_003    float64\n",
       "MT_004    float64\n",
       "MT_005    float64\n",
       "           ...   \n",
       "MT_366    float64\n",
       "MT_367    float64\n",
       "MT_368    float64\n",
       "MT_369    float64\n",
       "MT_370    float64\n",
       "Length: 370, dtype: object"
      ]
     },
     "execution_count": 7,
     "metadata": {},
     "output_type": "execute_result"
    }
   ],
   "source": [
    "for c in d.columns:\n",
    "    d[c] = d[c].astype(float)\n",
    "d.dtypes"
   ]
  },
  {
   "cell_type": "code",
   "execution_count": 8,
   "metadata": {},
   "outputs": [
    {
     "data": {
      "text/plain": [
       "(Timestamp('2011-01-01 00:00:00'), Timestamp('2015-01-01 00:00:00'))"
      ]
     },
     "execution_count": 8,
     "metadata": {},
     "output_type": "execute_result"
    }
   ],
   "source": [
    "d.index.min(), d.index.max()"
   ]
  },
  {
   "cell_type": "code",
   "execution_count": 9,
   "metadata": {},
   "outputs": [
    {
     "data": {
      "text/plain": [
       "(35065, 370)"
      ]
     },
     "execution_count": 9,
     "metadata": {},
     "output_type": "execute_result"
    }
   ],
   "source": [
    "d.shape"
   ]
  },
  {
   "cell_type": "code",
   "execution_count": 10,
   "metadata": {},
   "outputs": [
    {
     "data": {
      "text/plain": [
       "MT_001    1.899547e+19\n",
       "MT_002    2.755961e+19\n",
       "MT_003    2.490666e+19\n",
       "MT_004    5.058810e+19\n",
       "MT_005    4.527706e+19\n",
       "              ...     \n",
       "MT_366    4.462558e+19\n",
       "MT_367    5.406011e+19\n",
       "MT_368    3.381737e+19\n",
       "MT_369    6.853980e+19\n",
       "MT_370    1.331800e+19\n",
       "Length: 370, dtype: float64"
      ]
     },
     "execution_count": 10,
     "metadata": {},
     "output_type": "execute_result"
    }
   ],
   "source": [
    "d.sum(axis=0)"
   ]
  },
  {
   "cell_type": "code",
   "execution_count": 11,
   "metadata": {},
   "outputs": [
    {
     "data": {
      "text/plain": [
       "False"
      ]
     },
     "execution_count": 11,
     "metadata": {},
     "output_type": "execute_result"
    }
   ],
   "source": [
    "d.isnull().any().any()"
   ]
  },
  {
   "cell_type": "markdown",
   "metadata": {},
   "source": [
    "# feature engineering"
   ]
  },
  {
   "cell_type": "code",
   "execution_count": 12,
   "metadata": {},
   "outputs": [
    {
     "name": "stderr",
     "output_type": "stream",
     "text": [
      "/home/dante/venvs/python36/lib/python3.6/site-packages/pandas/core/indexing.py:205: SettingWithCopyWarning: \n",
      "A value is trying to be set on a copy of a slice from a DataFrame\n",
      "\n",
      "See the caveats in the documentation: http://pandas.pydata.org/pandas-docs/stable/user_guide/indexing.html#returning-a-view-versus-a-copy\n",
      "  self._setitem_with_indexer(indexer, value)\n"
     ]
    },
    {
     "name": "stdout",
     "output_type": "stream",
     "text": [
      "CPU times: user 5.88 s, sys: 266 ms, total: 6.15 s\n",
      "Wall time: 6.15 s\n"
     ]
    }
   ],
   "source": [
    "import numpy as np\n",
    "\n",
    "\n",
    "# 7 days of context to predict one day of outcomes\n",
    "condition_length = 24 * 7\n",
    "prediction_length = 24\n",
    "\n",
    "\n",
    "def featurize(s, id):\n",
    "    name = s.name\n",
    "    s = drop_padded_values(s)\n",
    "    df = convert_series_to_frame(s)\n",
    "    df = add_categorical_features(df, id)\n",
    "    df = add_scaling_factor(df)\n",
    "    df['name'] = name\n",
    "    return df\n",
    "\n",
    "def drop_padded_values(s):\n",
    "    return np.trim_zeros(s)\n",
    "\n",
    "def convert_series_to_frame(s):\n",
    "    return s.to_frame().rename({s.name: 'z'}, axis=1)\n",
    "\n",
    "def add_categorical_features(df, id):\n",
    "    df['id'] = id\n",
    "    df['day_of_week'] = df.index.dayofweek\n",
    "    df['hour'] = df.index.hour\n",
    "    df['month'] = df.index.month\n",
    "    df['week_of_year'] = df.index.weekofyear\n",
    "    df['age'] = (df.index - df.index.values[0]).total_seconds() / 3600\n",
    "    return df\n",
    "\n",
    "\n",
    "# https://stackoverflow.com/questions/6811183/rolling-window-for-1d-arrays-in-numpy/6811241#6811241\n",
    "def rolling_window(a, window):\n",
    "    shape = a.shape[:-1] + (a.shape[-1] - window + 1, window)\n",
    "    strides = a.strides + (a.strides[-1],)\n",
    "    return np.lib.stride_tricks.as_strided(a, shape=shape, strides=strides)\n",
    "\n",
    "def add_scaling_factor(df):\n",
    "    z = df.z.values\n",
    "    df['scale_factor'] = 0\n",
    "    df['scale_factor'].iloc[condition_length-1:] = 1 + np.sum(rolling_window(z, condition_length), axis=1)\n",
    "    return df\n",
    "    \n",
    "%time df = pd.concat(featurize(d.iloc[:, i], i) for i in range(d.shape[-1]))"
   ]
  },
  {
   "cell_type": "code",
   "execution_count": 13,
   "metadata": {},
   "outputs": [
    {
     "data": {
      "text/plain": [
       "array([1., 2., 3., 4.])"
      ]
     },
     "execution_count": 13,
     "metadata": {},
     "output_type": "execute_result"
    }
   ],
   "source": [
    "rolling_window(np.arange(6), 3).mean(axis=1)"
   ]
  },
  {
   "cell_type": "code",
   "execution_count": 14,
   "metadata": {},
   "outputs": [],
   "source": [
    "assert df.scale_factor.lt(0).sum() == 0, df.scale_factor.lt(0).sum()"
   ]
  },
  {
   "cell_type": "code",
   "execution_count": 15,
   "metadata": {},
   "outputs": [
    {
     "data": {
      "text/plain": [
       "<matplotlib.axes._subplots.AxesSubplot at 0x7f1d5bb89438>"
      ]
     },
     "execution_count": 15,
     "metadata": {},
     "output_type": "execute_result"
    }
   ],
   "source": [
    "df.scale_factor.hist()"
   ]
  },
  {
   "cell_type": "code",
   "execution_count": 16,
   "metadata": {},
   "outputs": [
    {
     "data": {
      "text/plain": [
       "(0.0, 6.097392389270116e+17, 2.2706173015993645e+17)"
      ]
     },
     "execution_count": 16,
     "metadata": {},
     "output_type": "execute_result"
    }
   ],
   "source": [
    "df.scale_factor.min(), df.scale_factor.max(), df.scale_factor.mean()"
   ]
  },
  {
   "cell_type": "code",
   "execution_count": 17,
   "metadata": {},
   "outputs": [],
   "source": [
    "max_values = df.groupby('name').age.max().to_dict()\n",
    "df['scale_factor'] = np.where(df.name.map(max_values) - df.age < prediction_length + 1, 0, df.scale_factor)"
   ]
  },
  {
   "cell_type": "code",
   "execution_count": 18,
   "metadata": {},
   "outputs": [
    {
     "data": {
      "text/plain": [
       "(0.0, 6.097392389270116e+17, 2.2685736113959152e+17)"
      ]
     },
     "execution_count": 18,
     "metadata": {},
     "output_type": "execute_result"
    }
   ],
   "source": [
    "df.scale_factor.min(), df.scale_factor.max(), df.scale_factor.mean()"
   ]
  },
  {
   "cell_type": "code",
   "execution_count": 19,
   "metadata": {},
   "outputs": [],
   "source": [
    "df['sample_weight'] = df.scale_factor / df.scale_factor.sum()"
   ]
  },
  {
   "cell_type": "code",
   "execution_count": 20,
   "metadata": {},
   "outputs": [
    {
     "data": {
      "text/plain": [
       "<matplotlib.axes._subplots.AxesSubplot at 0x7f1d59edcd68>"
      ]
     },
     "execution_count": 20,
     "metadata": {},
     "output_type": "execute_result"
    },
    {
     "data": {
      "image/png": "[encoded data removed]",
      "text/plain": [
       "<Figure size 432x288 with 1 Axes>"
      ]
     },
     "metadata": {},
     "output_type": "display_data"
    }
   ],
   "source": [
    "df.scale_factor.hist()"
   ]
  },
  {
   "cell_type": "code",
   "execution_count": 21,
   "metadata": {},
   "outputs": [
    {
     "data": {
      "text/plain": [
       "<matplotlib.axes._subplots.AxesSubplot at 0x7f1d59fb7c18>"
      ]
     },
     "execution_count": 21,
     "metadata": {},
     "output_type": "execute_result"
    },
    {
     "data": {
      "image/png": "[encoded data removed]",
      "text/plain": [
       "<Figure size 432x288 with 1 Axes>"
      ]
     },
     "metadata": {},
     "output_type": "display_data"
    }
   ],
   "source": [
    "df.sample_weight.hist()"
   ]
  },
  {
   "cell_type": "code",
   "execution_count": 22,
   "metadata": {},
   "outputs": [
    {
     "data": {
      "text/html": [
       "<div>\n",
       "<style scoped>\n",
       "    .dataframe tbody tr th:only-of-type {\n",
       "        vertical-align: middle;\n",
       "    }\n",
       "\n",
       "    .dataframe tbody tr th {\n",
       "        vertical-align: top;\n",
       "    }\n",
       "\n",
       "    .dataframe thead th {\n",
       "        text-align: right;\n",
       "    }\n",
       "</style>\n",
       "<table border=\"1\" class=\"dataframe\">\n",
       "  <thead>\n",
       "    <tr style=\"text-align: right;\">\n",
       "      <th></th>\n",
       "      <th>z</th>\n",
       "      <th>id</th>\n",
       "      <th>day_of_week</th>\n",
       "      <th>hour</th>\n",
       "      <th>month</th>\n",
       "      <th>week_of_year</th>\n",
       "      <th>age</th>\n",
       "      <th>scale_factor</th>\n",
       "      <th>name</th>\n",
       "      <th>sample_weight</th>\n",
       "    </tr>\n",
       "  </thead>\n",
       "  <tbody>\n",
       "    <tr>\n",
       "      <th>2012-01-01 00:00:00</th>\n",
       "      <td>8.121827e+14</td>\n",
       "      <td>0</td>\n",
       "      <td>6</td>\n",
       "      <td>0</td>\n",
       "      <td>1</td>\n",
       "      <td>52</td>\n",
       "      <td>0.0</td>\n",
       "      <td>0.0</td>\n",
       "      <td>MT_001</td>\n",
       "      <td>0.0</td>\n",
       "    </tr>\n",
       "    <tr>\n",
       "      <th>2012-01-01 01:00:00</th>\n",
       "      <td>1.192893e+15</td>\n",
       "      <td>0</td>\n",
       "      <td>6</td>\n",
       "      <td>1</td>\n",
       "      <td>1</td>\n",
       "      <td>52</td>\n",
       "      <td>1.0</td>\n",
       "      <td>0.0</td>\n",
       "      <td>MT_001</td>\n",
       "      <td>0.0</td>\n",
       "    </tr>\n",
       "    <tr>\n",
       "      <th>2012-01-01 02:00:00</th>\n",
       "      <td>1.446701e+15</td>\n",
       "      <td>0</td>\n",
       "      <td>6</td>\n",
       "      <td>2</td>\n",
       "      <td>1</td>\n",
       "      <td>52</td>\n",
       "      <td>2.0</td>\n",
       "      <td>0.0</td>\n",
       "      <td>MT_001</td>\n",
       "      <td>0.0</td>\n",
       "    </tr>\n",
       "    <tr>\n",
       "      <th>2012-01-01 03:00:00</th>\n",
       "      <td>8.629442e+14</td>\n",
       "      <td>0</td>\n",
       "      <td>6</td>\n",
       "      <td>3</td>\n",
       "      <td>1</td>\n",
       "      <td>52</td>\n",
       "      <td>3.0</td>\n",
       "      <td>0.0</td>\n",
       "      <td>MT_001</td>\n",
       "      <td>0.0</td>\n",
       "    </tr>\n",
       "    <tr>\n",
       "      <th>2012-01-01 04:00:00</th>\n",
       "      <td>5.329949e+14</td>\n",
       "      <td>0</td>\n",
       "      <td>6</td>\n",
       "      <td>4</td>\n",
       "      <td>1</td>\n",
       "      <td>52</td>\n",
       "      <td>4.0</td>\n",
       "      <td>0.0</td>\n",
       "      <td>MT_001</td>\n",
       "      <td>0.0</td>\n",
       "    </tr>\n",
       "  </tbody>\n",
       "</table>\n",
       "</div>"
      ],
      "text/plain": [
       "                                z  id  day_of_week  hour  month  week_of_year  \\\n",
       "2012-01-01 00:00:00  8.121827e+14   0            6     0      1            52   \n",
       "2012-01-01 01:00:00  1.192893e+15   0            6     1      1            52   \n",
       "2012-01-01 02:00:00  1.446701e+15   0            6     2      1            52   \n",
       "2012-01-01 03:00:00  8.629442e+14   0            6     3      1            52   \n",
       "2012-01-01 04:00:00  5.329949e+14   0            6     4      1            52   \n",
       "\n",
       "                     age  scale_factor    name  sample_weight  \n",
       "2012-01-01 00:00:00  0.0           0.0  MT_001            0.0  \n",
       "2012-01-01 01:00:00  1.0           0.0  MT_001            0.0  \n",
       "2012-01-01 02:00:00  2.0           0.0  MT_001            0.0  \n",
       "2012-01-01 03:00:00  3.0           0.0  MT_001            0.0  \n",
       "2012-01-01 04:00:00  4.0           0.0  MT_001            0.0  "
      ]
     },
     "execution_count": 22,
     "metadata": {},
     "output_type": "execute_result"
    }
   ],
   "source": [
    "df.head()"
   ]
  },
  {
   "cell_type": "code",
   "execution_count": 23,
   "metadata": {},
   "outputs": [],
   "source": [
    "# (d.iloc[:, 14]).rolling(condition_length).sum().min()"
   ]
  },
  {
   "cell_type": "code",
   "execution_count": 24,
   "metadata": {},
   "outputs": [],
   "source": [
    "assert (df.scale_factor.eq(0) & df.sample_weight.gt(0)).sum() == 0"
   ]
  },
  {
   "cell_type": "markdown",
   "metadata": {},
   "source": [
    "# create batch generator"
   ]
  },
  {
   "cell_type": "code",
   "execution_count": 25,
   "metadata": {},
   "outputs": [
    {
     "data": {
      "text/plain": [
       "1413902"
      ]
     },
     "execution_count": 25,
     "metadata": {},
     "output_type": "execute_result"
    }
   ],
   "source": [
    "np.random.choice(df.shape[0], p=df.sample_weight)"
   ]
  },
  {
   "cell_type": "code",
   "execution_count": 26,
   "metadata": {},
   "outputs": [
    {
     "data": {
      "text/plain": [
       "array([[0, 0, 0, 0, 0, 0, 0, 0, 0, 0, 0, 0, 0, 0, 0, 0, 0, 0, 0, 0, 0, 0,\n",
       "        0, 0, 0, 0, 0, 0, 0, 0, 0, 0, 0, 0, 0, 0, 0, 0, 0, 0, 0, 0, 0, 0,\n",
       "        0, 0, 0, 0, 0, 0, 0, 0, 0, 0, 0, 0, 0, 0, 0, 0, 0, 0, 0, 0, 0, 0,\n",
       "        0, 0, 0, 0, 0, 0, 0, 0, 0, 0, 0, 0, 0, 0, 0, 0, 0, 0, 0, 0, 0, 0,\n",
       "        0, 0, 0, 0, 0, 0, 0, 0, 0, 0, 0, 0, 0, 0, 0, 0, 0, 0, 0, 0, 0, 0,\n",
       "        0, 0, 0, 0, 0, 0, 0, 0, 0, 0, 0, 0, 0, 0, 0, 0, 0, 0, 0, 0, 0, 0,\n",
       "        0, 0, 0, 0, 0, 0, 0, 0, 0, 0, 0, 0, 0, 0, 0, 0, 0, 0, 0, 0, 0, 0,\n",
       "        0, 0, 0, 0, 0, 0, 0, 0, 0, 0, 0, 0, 0, 0]])"
      ]
     },
     "execution_count": 26,
     "metadata": {},
     "output_type": "execute_result"
    }
   ],
   "source": [
    "df[:condition_length].id.values.reshape((1, -1))"
   ]
  },
  {
   "cell_type": "code",
   "execution_count": 27,
   "metadata": {},
   "outputs": [],
   "source": [
    "categorical_features = [\n",
    "    'day_of_week', 'hour', 'month', 'week_of_year', 'age',\n",
    "]\n",
    "\n",
    "def format_example(df):\n",
    "    ids = df.id.values.reshape((1, -1))\n",
    "    z = df.z.values.reshape((1, -1, 1))\n",
    "    x = df[categorical_features].values[np.newaxis, :, :]\n",
    "    scale_factor = df.scale_factor.iloc[condition_length-1:condition_length].values.reshape((1, 1, 1))\n",
    "    assert scale_factor == (1 + z[:, :condition_length, :].sum(axis=1)), scale_factor\n",
    "    \n",
    "    return {\n",
    "        'id_condition': ids[:, :condition_length],\n",
    "        'id_prediction': ids[:, condition_length:condition_length+prediction_length],\n",
    "        'x_condition': x[:, :condition_length, :],\n",
    "        'x_prediction': x[:, condition_length:condition_length+prediction_length, :],\n",
    "        'z_condition': z[:, :condition_length, :],\n",
    "        'z_prediction': z[:, condition_length:condition_length+prediction_length, :],\n",
    "        'scale_factor': scale_factor\n",
    "    }, z[:, condition_length+1:condition_length+prediction_length+1, :]\n",
    "\n",
    "def get_training_example(df, i):\n",
    "    start = i - condition_length\n",
    "    stop = i + prediction_length + 1\n",
    "    return df.iloc[start:stop]\n",
    "\n",
    "def make_examples(df, indices):\n",
    "    examples = []\n",
    "    for i in indices:\n",
    "        try:\n",
    "            examples.append(format_example(get_training_example(df, i)))\n",
    "        except AssertionError as err:\n",
    "            print('skipping', i, err.args)\n",
    "    return examples\n",
    "\n",
    "def make_batch(examples):\n",
    "    keys = examples[0][0].keys()\n",
    "    x = {k: np.concatenate([t[0][k] for t in examples]) for k in keys}\n",
    "    y = np.concatenate([t[1] for t in examples])\n",
    "    return x, y"
   ]
  },
  {
   "cell_type": "code",
   "execution_count": 28,
   "metadata": {},
   "outputs": [
    {
     "data": {
      "text/plain": [
       "((193, 10), 193)"
      ]
     },
     "execution_count": 28,
     "metadata": {},
     "output_type": "execute_result"
    }
   ],
   "source": [
    "get_training_example(df, 1000).shape, condition_length + prediction_length + 1"
   ]
  },
  {
   "cell_type": "code",
   "execution_count": 29,
   "metadata": {},
   "outputs": [],
   "source": [
    "x_e, y_e = format_example(df.iloc[:condition_length+prediction_length+1])"
   ]
  },
  {
   "cell_type": "code",
   "execution_count": 30,
   "metadata": {},
   "outputs": [],
   "source": [
    "assert (x_e['z_prediction'][:, 1:, :] == y_e[:, :-1, :]).all(), 'predictions not offset correctly'"
   ]
  },
  {
   "cell_type": "code",
   "execution_count": 31,
   "metadata": {},
   "outputs": [
    {
     "name": "stdout",
     "output_type": "stream",
     "text": [
      "CPU times: user 245 µs, sys: 37 µs, total: 282 µs\n",
      "Wall time: 284 µs\n"
     ]
    }
   ],
   "source": [
    "examples = make_examples(df, np.arange(64) + 1000)\n",
    "%time x_batch, y_batch = make_batch(examples)"
   ]
  },
  {
   "cell_type": "code",
   "execution_count": 32,
   "metadata": {},
   "outputs": [
    {
     "data": {
      "text/plain": [
       "({'id_condition': (64, 168),\n",
       "  'id_prediction': (64, 24),\n",
       "  'x_condition': (64, 168, 5),\n",
       "  'x_prediction': (64, 24, 5),\n",
       "  'z_condition': (64, 168, 1),\n",
       "  'z_prediction': (64, 24, 1),\n",
       "  'scale_factor': (64, 1, 1)},\n",
       " (64, 24, 1))"
      ]
     },
     "execution_count": 32,
     "metadata": {},
     "output_type": "execute_result"
    }
   ],
   "source": [
    "{k: v.shape for k, v in x_batch.items()}, y_batch.shape"
   ]
  },
  {
   "cell_type": "code",
   "execution_count": 33,
   "metadata": {},
   "outputs": [],
   "source": [
    "# import numpy as np\n",
    "\n",
    "# # TODO: add age feature and \"item\" feature\n",
    "\n",
    "# # 7 days of context to predict one day of outcomes\n",
    "# condition_length = 24 * 7\n",
    "# prediction_length = 24\n",
    "\n",
    "# categorical_features = [\n",
    "#     'day_of_week', 'hour', 'month', 'week_of_year', 'age',\n",
    "# ]\n",
    "\n",
    "# def get_categorical_features(d):\n",
    "#     return d[categorical_features].values[np.newaxis, :, :]\n",
    "\n",
    "# def get_time_series_features(d):\n",
    "#     return d.z.T.values[:, :, np.newaxis]\n",
    "\n",
    "# def make_id_feature(ids, n):\n",
    "#     return np.tile(ids, (n, 1))\n",
    "\n",
    "# def feature_extraction(d, condition_length=condition_length):\n",
    "#     d_condition = d.iloc[:condition_length]\n",
    "#     d_prediction = d.iloc[condition_length:-1]\n",
    "#     d_y = d.iloc[condition_length + 1:]\n",
    "    \n",
    "#     x_condition = get_categorical_features(d_condition)\n",
    "#     x_prediction = get_categorical_features(d_prediction)\n",
    "    \n",
    "#     z_condition = get_time_series_features(d_condition)\n",
    "#     z_prediction = get_time_series_features(d_prediction)\n",
    "#     y = get_time_series_features(d_y)\n",
    "    \n",
    "#     scale_factor = 1 + z_condition.sum(axis=(1, 2)).reshape((-1, 1, 1))\n",
    "    \n",
    "#     return {\n",
    "#         'id_condition': make_id_feature(d.id, condition_length),\n",
    "#         'id_prediction': make_id_feature(d.id, len(d_prediction)),\n",
    "#         'x_condition': x_condition.astype(float),\n",
    "#         'x_prediction': x_prediction.astype(float),\n",
    "#         'z_prediction': z_prediction / scale_factor,\n",
    "#         'z_condition': z_condition / scale_factor,\n",
    "#         'scale_factor': scale_factor\n",
    "#     }, y / scale_factor\n",
    "\n",
    "# def get_training_example(d):\n",
    "#     i = np.random.randint(370)  # TODO: don't hard code number of clients\n",
    "#     first_nonzero = np.argwhere(d.iloc[:, i] > 0)[0][0]\n",
    "#     t_0 = np.random.randint(np.argwhere(d.iloc[:, 0] > 0)[0][0], len(d) - (prediction_length + 1))\n",
    "#     d_sample = d[t_0:t_0 + condition_length + prediction_length + 1]  # TODO: parameterize\n",
    "#     return feature_extraction(d_sample[[d_sample.columns[i]] + categorical_features], i)\n",
    "\n",
    "# def get_batch(d, batch_size):\n",
    "#     training_examples = [get_training_example(d) for _ in range(batch_size)]\n",
    "#     keys = training_examples[0][0].keys()\n",
    "#     x = {k: np.concatenate([t[0][k] for t in training_examples]) for k in keys}\n",
    "#     y = np.concatenate([t[1] for t in training_examples])\n",
    "#     return x, y\n"
   ]
  },
  {
   "cell_type": "markdown",
   "metadata": {},
   "source": [
    "# model"
   ]
  },
  {
   "cell_type": "code",
   "execution_count": 50,
   "metadata": {},
   "outputs": [],
   "source": [
    "import math\n",
    "import tensorflow as tf\n",
    "\n",
    "tf.keras.backend.set_floatx('float64')\n",
    "pi = tf.constant(math.pi, dtype='float64')\n",
    "epsilon = tf.constant(1e-9, dtype='float64')\n",
    "\n",
    "def guassian_likelihood(z, model_outputs):\n",
    "    mu, sigma = model_outputs[:, :, 0], model_outputs[:, :, 1]\n",
    "    # need to keep three dimensions when we slice here\n",
    "    mu, sigma = tf.keras.backend.expand_dims(mu), tf.keras.backend.expand_dims(sigma)\n",
    "    return (1. / tf.math.sqrt(2 * pi * sigma ** 2)) * tf.exp(-1 * (((z - mu) ** 2) / ((2 * sigma ** 2))))\n",
    "\n",
    "\n",
    "def guassian_log_likelihood_loss(z, model_outputs):\n",
    "    return -tf.math.log(guassian_likelihood(z, model_outputs) + epsilon)\n",
    "\n",
    "\n",
    "def _make_inputs(condition_length, prediction_length, time_cat_dims):\n",
    "    id_condition = tf.keras.Input((condition_length,), name='id_condition')\n",
    "    id_prediction = tf.keras.Input((prediction_length,), name='id_prediction')\n",
    "\n",
    "    x_condition_input = tf.keras.Input((condition_length, time_cat_dims), name='x_condition')\n",
    "    x_prediction_input = tf.keras.Input((prediction_length, time_cat_dims), name='x_prediction')\n",
    "    \n",
    "    z_condition_input = tf.keras.Input((condition_length, 1), name='z_condition')\n",
    "    z_prediction_input = tf.keras.Input((prediction_length, 1), name='z_prediction')\n",
    "    \n",
    "    scale_factor_input = tf.keras.Input((1, 1), name='scale_factor')\n",
    "    \n",
    "    return id_condition, id_prediction, x_condition_input, x_prediction_input, z_condition_input, z_prediction_input, scale_factor_input\n",
    "\n",
    "\n",
    "def _make_encoder_decoder(encoder_inputs, decoder_inputs, lstm_layers, lstm_units):\n",
    "    # make encoder first\n",
    "    encoder_outputs = encoder_inputs\n",
    "    for i in range(lstm_layers):\n",
    "        encoder = tf.keras.layers.LSTM(lstm_units, return_state=True, return_sequences=True,\n",
    "                                       unit_forget_bias=1.0,  # this is the default, but explicitly mentioned in the paper\n",
    "                                       name=f'encoder_{i}')\n",
    "        encoder_outputs, *encoder_state  = encoder(encoder_outputs)\n",
    "\n",
    "    # now make decoder, sharing encoder state on the first layer\n",
    "    decoder_outputs = decoder_inputs\n",
    "    for i in range(lstm_layers):\n",
    "        decoder = tf.keras.layers.LSTM(lstm_units, return_sequences=True,\n",
    "                                       unit_forget_bias=1.0,  # this is the default, but explicitly mentioned in the paper\n",
    "                                       name=f'decoder_{i}')\n",
    "        if i == 0:\n",
    "            decoder_outputs = decoder(decoder_outputs, initial_state=encoder_state)\n",
    "        else:\n",
    "            decoder_outputs = decoder(decoder_outputs)\n",
    "    return decoder_outputs\n",
    "\n",
    "def _make_distribution_params(sequences, scale, W_mu_activation, W_sigma_activation):\n",
    "    mu = tf.keras.layers.Dense(1, activation=W_mu_activation)(sequences)\n",
    "    sigma = tf.keras.layers.Dense(1, activation=W_sigma_activation)(sequences)\n",
    "    \n",
    "#     mu = tf.keras.layers.Multiply()([mu, scale])\n",
    "#     sigma = tf.keras.layers.Multiply()([sigma, 1 / tf.math.sqrt(scale)])\n",
    "\n",
    "    return tf.keras.layers.Concatenate()([mu, sigma])\n",
    "        \n",
    "\n",
    "def DeepAR(condition_length, prediction_length, time_cat_dims, item_input_embedding_dim=370, item_output_embedding_dim=20,\n",
    "           lstm_layers=3, lstm_units=40, W_mu_activation='linear', W_sigma_activaton='softplus'):\n",
    "\n",
    "    id_condition, id_prediction, x_condition_input, x_prediction_input, z_condition_input, z_prediction_input, scale_factor = \\\n",
    "        _make_inputs(condition_length, prediction_length, time_cat_dims)\n",
    "\n",
    "    condition_embedding = tf.keras.layers.Embedding(output_dim=item_output_embedding_dim, input_dim=item_input_embedding_dim,\n",
    "                                                    input_length=condition_length)(id_condition)\n",
    "    prediction_embedding = tf.keras.layers.Embedding(output_dim=item_output_embedding_dim, input_dim=item_input_embedding_dim,\n",
    "                                                     input_length=prediction_length)(id_prediction)\n",
    "    condition_inputs = tf.keras.layers.Concatenate()([\n",
    "        tf.keras.layers.BatchNormalization(trainable=False)(x_condition_input),\n",
    "        z_condition_input,\n",
    "        condition_embedding])\n",
    "    prediction_inputs = tf.keras.layers.Concatenate()([\n",
    "        tf.keras.layers.BatchNormalization(trainable=False)(x_prediction_input),\n",
    "        z_prediction_input,\n",
    "        prediction_embedding])\n",
    "\n",
    "    decoder_outputs = _make_encoder_decoder(condition_inputs, prediction_inputs, lstm_layers, lstm_units)\n",
    "\n",
    "    z_distribution_params = _make_distribution_params(decoder_outputs, scale_factor, W_mu_activation, W_sigma_activaton)\n",
    "\n",
    "    return tf.keras.models.Model(\n",
    "        inputs=[\n",
    "            scale_factor,\n",
    "            id_condition, id_prediction,\n",
    "            x_condition_input, x_prediction_input,\n",
    "            z_condition_input, z_prediction_input],\n",
    "        outputs=[z_distribution_params])\n",
    "\n",
    "tf.keras.backend.set_floatx('float64')\n",
    "model = DeepAR(condition_length, prediction_length, len(categorical_features), lstm_layers=3)\n",
    "adam = tf.keras.optimizers.Adam(learning_rate=.0005)\n",
    "model.compile(loss=guassian_log_likelihood_loss, optimizer=adam)"
   ]
  },
  {
   "cell_type": "code",
   "execution_count": 51,
   "metadata": {},
   "outputs": [
    {
     "name": "stdout",
     "output_type": "stream",
     "text": [
      "Model: \"model_1\"\n",
      "__________________________________________________________________________________________________\n",
      "Layer (type)                    Output Shape         Param #     Connected to                     \n",
      "==================================================================================================\n",
      "x_condition (InputLayer)        [(None, 168, 5)]     0                                            \n",
      "__________________________________________________________________________________________________\n",
      "id_condition (InputLayer)       [(None, 168)]        0                                            \n",
      "__________________________________________________________________________________________________\n",
      "batch_normalization_2 (BatchNor (None, 168, 5)       20          x_condition[0][0]                \n",
      "__________________________________________________________________________________________________\n",
      "z_condition (InputLayer)        [(None, 168, 1)]     0                                            \n",
      "__________________________________________________________________________________________________\n",
      "embedding_2 (Embedding)         (None, 168, 20)      7400        id_condition[0][0]               \n",
      "__________________________________________________________________________________________________\n",
      "concatenate_3 (Concatenate)     (None, 168, 26)      0           batch_normalization_2[0][0]      \n",
      "                                                                 z_condition[0][0]                \n",
      "                                                                 embedding_2[0][0]                \n",
      "__________________________________________________________________________________________________\n",
      "x_prediction (InputLayer)       [(None, 24, 5)]      0                                            \n",
      "__________________________________________________________________________________________________\n",
      "id_prediction (InputLayer)      [(None, 24)]         0                                            \n",
      "__________________________________________________________________________________________________\n",
      "encoder_0 (LSTM)                [(None, 168, 40), (N 10720       concatenate_3[0][0]              \n",
      "__________________________________________________________________________________________________\n",
      "batch_normalization_3 (BatchNor (None, 24, 5)        20          x_prediction[0][0]               \n",
      "__________________________________________________________________________________________________\n",
      "z_prediction (InputLayer)       [(None, 24, 1)]      0                                            \n",
      "__________________________________________________________________________________________________\n",
      "embedding_3 (Embedding)         (None, 24, 20)       7400        id_prediction[0][0]              \n",
      "__________________________________________________________________________________________________\n",
      "encoder_1 (LSTM)                [(None, 168, 40), (N 12960       encoder_0[0][0]                  \n",
      "__________________________________________________________________________________________________\n",
      "concatenate_4 (Concatenate)     (None, 24, 26)       0           batch_normalization_3[0][0]      \n",
      "                                                                 z_prediction[0][0]               \n",
      "                                                                 embedding_3[0][0]                \n",
      "__________________________________________________________________________________________________\n",
      "encoder_2 (LSTM)                [(None, 168, 40), (N 12960       encoder_1[0][0]                  \n",
      "__________________________________________________________________________________________________\n",
      "decoder_0 (LSTM)                (None, 24, 40)       10720       concatenate_4[0][0]              \n",
      "                                                                 encoder_2[0][1]                  \n",
      "                                                                 encoder_2[0][2]                  \n",
      "__________________________________________________________________________________________________\n",
      "decoder_1 (LSTM)                (None, 24, 40)       12960       decoder_0[0][0]                  \n",
      "__________________________________________________________________________________________________\n",
      "decoder_2 (LSTM)                (None, 24, 40)       12960       decoder_1[0][0]                  \n",
      "__________________________________________________________________________________________________\n",
      "dense_2 (Dense)                 (None, 24, 1)        41          decoder_2[0][0]                  \n",
      "__________________________________________________________________________________________________\n",
      "dense_3 (Dense)                 (None, 24, 1)        41          decoder_2[0][0]                  \n",
      "__________________________________________________________________________________________________\n",
      "scale_factor (InputLayer)       [(None, 1, 1)]       0                                            \n",
      "__________________________________________________________________________________________________\n",
      "concatenate_5 (Concatenate)     (None, 24, 2)        0           dense_2[0][0]                    \n",
      "                                                                 dense_3[0][0]                    \n",
      "==================================================================================================\n",
      "Total params: 88,202\n",
      "Trainable params: 88,162\n",
      "Non-trainable params: 40\n",
      "__________________________________________________________________________________________________\n"
     ]
    }
   ],
   "source": [
    "model.summary()"
   ]
  },
  {
   "cell_type": "code",
   "execution_count": 36,
   "metadata": {},
   "outputs": [],
   "source": [
    "skipped = [0]\n",
    "def gen(examples, batch_size):\n",
    "    while True:\n",
    "        np.random.shuffle(examples)\n",
    "        for i in range(len(examples) // batch_size):\n",
    "            try:\n",
    "                x_batch, y_batch = make_batch(examples[i*batch_size:(i+1)*batch_size])\n",
    "                scale_factor = x_batch['scale_factor']\n",
    "                if (scale_factor == 0).any():  # this shouldn't happen, just being cautious\n",
    "                    skipped[0] += 1\n",
    "                    continue\n",
    "                x_batch['z_condition'] = x_batch['z_condition'] / scale_factor\n",
    "                x_batch['z_prediction'] = x_batch['z_prediction'] / scale_factor\n",
    "                y_batch = y_batch / scale_factor\n",
    "                yield x_batch, y_batch\n",
    "            except Exception:\n",
    "                pass"
   ]
  },
  {
   "cell_type": "code",
   "execution_count": 37,
   "metadata": {},
   "outputs": [
    {
     "name": "stdout",
     "output_type": "stream",
     "text": [
      "skipping 2668930 (array([[[0.]]]),)\n",
      "skipping 7388308 (array([[[0.]]]),)\n",
      "skipping 1915599 (array([[[0.]]]),)\n",
      "skipping 1862989 (array([[[0.]]]),)\n",
      "skipping 5131901 (array([[[0.]]]),)\n",
      "skipping 10420589 (array([[[0.]]]),)\n",
      "skipping 236912 (array([[[0.]]]),)\n",
      "skipping 3534174 (array([[[0.]]]),)\n",
      "skipping 5896761 (array([[[0.]]]),)\n",
      "skipping 9365991 (array([[[0.]]]),)\n",
      "skipping 1862989 (array([[[0.]]]),)\n",
      "skipping 2310174 (array([[[0.]]]),)\n",
      "skipping 10183844 (array([[[0.]]]),)\n",
      "skipping 867409 (array([[[0.]]]),)\n",
      "skipping 2855306 (array([[[0.]]]),)\n",
      "CPU times: user 11min 24s, sys: 4.37 s, total: 11min 29s\n",
      "Wall time: 11min 40s\n"
     ]
    }
   ],
   "source": [
    "n_total_training_examples = 500000\n",
    "n_steps_per_epoch = 500\n",
    "n_epochs = 15\n",
    "batch_size = 64\n",
    "indices = np.random.choice(df.shape[0], size=n_total_training_examples, p=df.sample_weight)\n",
    "%time examples = make_examples(df, indices)"
   ]
  },
  {
   "cell_type": "code",
   "execution_count": 38,
   "metadata": {},
   "outputs": [
    {
     "name": "stdout",
     "output_type": "stream",
     "text": [
      "CPU times: user 90.1 ms, sys: 56.2 ms, total: 146 ms\n",
      "Wall time: 1.73 s\n"
     ]
    }
   ],
   "source": [
    "g = gen(examples, batch_size)\n",
    "%time x_test, y_test = next(g)  # TODO: not true test cases"
   ]
  },
  {
   "cell_type": "code",
   "execution_count": 52,
   "metadata": {},
   "outputs": [
    {
     "name": "stdout",
     "output_type": "stream",
     "text": [
      "Train for 7812 steps\n",
      "Epoch 1/15\n",
      "7812/7812 [==============================] - 1516s 194ms/step - loss: -4.0710\n",
      "Epoch 2/15\n",
      "7812/7812 [==============================] - 1155s 148ms/step - loss: -4.2389\n",
      "Epoch 3/15\n",
      "7812/7812 [==============================] - 914s 117ms/step - loss: -4.2476\n",
      "Epoch 4/15\n",
      "7812/7812 [==============================] - 885s 113ms/step - loss: -4.2520\n",
      "Epoch 5/15\n",
      "7812/7812 [==============================] - 879s 113ms/step - loss: -4.3627\n",
      "Epoch 6/15\n",
      "7812/7812 [==============================] - 884s 113ms/step - loss: -4.3764\n",
      "Epoch 7/15\n",
      "7812/7812 [==============================] - 970s 124ms/step - loss: -4.4109\n",
      "Epoch 8/15\n",
      "7812/7812 [==============================] - 1304s 167ms/step - loss: -4.4746\n",
      "Epoch 9/15\n",
      "7812/7812 [==============================] - 1124s 144ms/step - loss: -4.4949\n",
      "Epoch 10/15\n",
      "7812/7812 [==============================] - 960s 123ms/step - loss: -4.5274\n",
      "Epoch 11/15\n",
      "7812/7812 [==============================] - 956s 122ms/step - loss: -4.5424\n",
      "Epoch 12/15\n",
      "7812/7812 [==============================] - 976s 125ms/step - loss: -4.5540\n",
      "Epoch 13/15\n",
      "7812/7812 [==============================] - 980s 125ms/step - loss: -4.5681\n",
      "Epoch 14/15\n",
      "7812/7812 [==============================] - 961s 123ms/step - loss: -4.5808\n",
      "Epoch 15/15\n",
      "7812/7812 [==============================] - 944s 121ms/step - loss: -4.5847\n"
     ]
    }
   ],
   "source": [
    "callbacks = model.fit(\n",
    "    gen(examples, batch_size),\n",
    "    steps_per_epoch=n_total_training_examples // batch_size,\n",
    "    epochs=n_epochs)"
   ]
  },
  {
   "cell_type": "code",
   "execution_count": 53,
   "metadata": {},
   "outputs": [
    {
     "name": "stdout",
     "output_type": "stream",
     "text": [
      "CPU times: user 2.6 s, sys: 358 ms, total: 2.96 s\n",
      "Wall time: 14.6 s\n"
     ]
    }
   ],
   "source": [
    "x_test, y_test = next(gen(examples, 64))   # TODO: not true test cases\n",
    "%time p = model.predict(x_test)"
   ]
  },
  {
   "cell_type": "code",
   "execution_count": 56,
   "metadata": {},
   "outputs": [
    {
     "data": {
      "text/plain": [
       "<ErrorbarContainer object of 3 artists>"
      ]
     },
     "execution_count": 56,
     "metadata": {},
     "output_type": "execute_result"
    },
    {
     "data": {
      "image/png": "[encoded data removed]",
      "text/plain": [
       "<Figure size 1080x360 with 1 Axes>"
      ]
     },
     "metadata": {},
     "output_type": "display_data"
    }
   ],
   "source": [
    "import scipy.stats as ss\n",
    "import matplotlib.pyplot as plt\n",
    "\n",
    "i = np.random.randint(len(p))\n",
    "\n",
    "params_it = p[i]\n",
    "dist_it = ss.norm(params_it[:, 0], params_it[:, 1])\n",
    "mean_it = dist_it.mean()\n",
    "low_it = dist_it.ppf(0.1)\n",
    "high_it = dist_it.ppf(0.9)\n",
    "y_it = y_test[i].reshape(-1)\n",
    "n = y_test.shape[-2]\n",
    "\n",
    "fig, ax = plt.subplots(figsize=(15, 5))\n",
    "plt.plot(np.arange(n) + condition_length, y_it, color='b')\n",
    "# plt.errorbar(np.arange(n), mean_it, color='r')\n",
    "plt.plot(np.arange(condition_length), x_test['z_condition'][i].reshape(-1), color='g')\n",
    "plt.plot(np.arange(prediction_length) + condition_length - 1, x_test['z_prediction'][i].reshape(-1), color='k')\n",
    "\n",
    "plt.errorbar(np.arange(n) + condition_length, mean_it, color='r', yerr=[np.abs(low_it), high_it])\n",
    "# plt.plot(np.arange(n), low_it)\n",
    "# plt.plot(np.arange(n), high_it)"
   ]
  },
  {
   "cell_type": "code",
   "execution_count": 48,
   "metadata": {},
   "outputs": [
    {
     "data": {
      "text/plain": [
       "(array([0.00372778, 0.00476419, 0.00402518, 0.00785264, 0.00906266,\n",
       "        0.00848044, 0.00689228, 0.00890652, 0.0029986 , 0.00764473,\n",
       "        0.00527132, 0.00950275, 0.00953121, 0.0076603 , 0.00110078,\n",
       "        0.00107663, 0.00107664, 0.00327545, 0.01009913, 0.00600283,\n",
       "        0.0059684 , 0.00527421, 0.00504758, 0.00494849]),\n",
       " array([0.00470771, 0.00372778, 0.00476419, 0.00402518, 0.00785264,\n",
       "        0.00906266, 0.00848044, 0.00689228, 0.00890652, 0.0029986 ,\n",
       "        0.00764473, 0.00527132, 0.00950275, 0.00953121, 0.0076603 ,\n",
       "        0.00110078, 0.00107663, 0.00107664, 0.00327545, 0.01009913,\n",
       "        0.00600283, 0.0059684 , 0.00527421, 0.00504758]))"
      ]
     },
     "execution_count": 48,
     "metadata": {},
     "output_type": "execute_result"
    }
   ],
   "source": [
    "y_it, x_test['z_prediction'][i].reshape(-1)"
   ]
  },
  {
   "cell_type": "code",
   "execution_count": 49,
   "metadata": {},
   "outputs": [
    {
     "data": {
      "text/plain": [
       "[<matplotlib.lines.Line2D at 0x7f19a35d8ba8>]"
      ]
     },
     "execution_count": 49,
     "metadata": {},
     "output_type": "execute_result"
    },
    {
     "data": {
      "image/png": "[encoded data removed]",
      "text/plain": [
       "<Figure size 432x288 with 1 Axes>"
      ]
     },
     "metadata": {},
     "output_type": "display_data"
    }
   ],
   "source": [
    "plt.plot(np.arange(condition_length), x_test['z_condition'][i].reshape(-1))"
   ]
  },
  {
   "cell_type": "code",
   "execution_count": null,
   "metadata": {},
   "outputs": [],
   "source": []
  }
 ],
 "metadata": {
  "kernelspec": {
   "display_name": "Python 3",
   "language": "python",
   "name": "python3"
  },
  "language_info": {
   "codemirror_mode": {
    "name": "ipython",
    "version": 3
   },
   "file_extension": ".py",
   "mimetype": "text/x-python",
   "name": "python",
   "nbconvert_exporter": "python",
   "pygments_lexer": "ipython3",
   "version": "3.6.6"
  }
 },
 "nbformat": 4,
 "nbformat_minor": 4
}
